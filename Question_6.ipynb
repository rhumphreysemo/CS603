{
 "cells": [
  {
   "cell_type": "markdown",
   "id": "60bdb065",
   "metadata": {},
   "source": [
    "Knowledge Exchange on Numpy - Queston 6"
   ]
  },
  {
   "cell_type": "code",
   "execution_count": 1,
   "id": "9e9f575b",
   "metadata": {},
   "outputs": [
    {
     "name": "stdout",
     "output_type": "stream",
     "text": [
      "arr shape is: (986, 12)\n",
      "The first five lines of arr:\n",
      " [['street' 'city' 'zip' 'state' 'beds' 'baths' 'sq__ft' 'type'\n",
      "  'sale_date' 'price' 'latitude' 'longitude']\n",
      " ['3526 HIGH ST' 'SACRAMENTO' '95838' 'CA' '2' '1' '836' 'Residential'\n",
      "  'Wed May 21 00:00:00 EDT 2008' '59222' '38.631913' '-121.434879']\n",
      " ['51 OMAHA CT' 'SACRAMENTO' '95823' 'CA' '3' '1' '1167' 'Residential'\n",
      "  'Wed May 21 00:00:00 EDT 2008' '68212' '38.478902' '-121.431028']\n",
      " ['2796 BRANCH ST' 'SACRAMENTO' '95815' 'CA' '2' '1' '796' 'Residential'\n",
      "  'Wed May 21 00:00:00 EDT 2008' '68880' '38.618305' '-121.443839']\n",
      " ['2805 JANETTE WAY' 'SACRAMENTO' '95815' 'CA' '2' '1' '852'\n",
      "  'Residential' 'Wed May 21 00:00:00 EDT 2008' '69307' '38.616835'\n",
      "  '-121.439146']]\n"
     ]
    }
   ],
   "source": [
    "import sys\n",
    "import numpy as np\n",
    "np.set_printoptions(threshold=sys.maxsize)    #so numpy does not compress print (leave some middle items out)\n",
    " \n",
    "# using loadtxt()\n",
    "arr = np.loadtxt(\"sacramentorealestatetransactions.csv\", delimiter=\",\", dtype=str)\n",
    "                                    # using loadtext() to read in the file and storing it in ndarray called arr\n",
    "                                    # delimiter is saying that fields are separated by comma(,), default is whitespace\n",
    "                                    # dtype stating that the arr is string type, default is float\n",
    "print(\"arr shape is:\",arr.shape)\n",
    "print(\"The first five lines of arr:\\n\",arr[:5,:])       #print the first five lines of arr so can inspect"
   ]
  },
  {
   "cell_type": "code",
   "execution_count": 2,
   "id": "587070fb",
   "metadata": {},
   "outputs": [],
   "source": [
    "# From above we see that the array has 12 columns and 986 rows, that is 985 transaction and the first\n",
    "# row of arr is the name of the 12 columns.  The dimension of arr is 1x986x12."
   ]
  },
  {
   "cell_type": "code",
   "execution_count": 3,
   "id": "c29db386",
   "metadata": {},
   "outputs": [
    {
     "name": "stdout",
     "output_type": "stream",
     "text": [
      "arr2 shape is: (100, 4)\n",
      "The first five lines of arr2:\n",
      " [['Wed May 21 00:00:00 EDT 2008' '59222' '38.631913' '-121.434879']\n",
      " ['Wed May 21 00:00:00 EDT 2008' '68212' '38.478902' '-121.431028']\n",
      " ['Wed May 21 00:00:00 EDT 2008' '68880' '38.618305' '-121.443839']\n",
      " ['Wed May 21 00:00:00 EDT 2008' '69307' '38.616835' '-121.439146']\n",
      " ['Wed May 21 00:00:00 EDT 2008' '81900' '38.51947' '-121.435768']]\n"
     ]
    }
   ],
   "source": [
    "#extract a region from a NumPy array use fancy indexing and indexing tricks \n",
    "columns_wanted = [8,9,10,11]                                     # list of columns want retreived\n",
    "arr2 = arr[1:101:1,columns_wanted]\n",
    "# alternative to line 3 is arr2 = arr[1:101:1,[8,9,10,11]]\n",
    "# alternative to line 3 is  arr2 = arr[1:101:1,8:12:1]\n",
    "print(\"arr2 shape is:\",arr2.shape)\n",
    "print(\"The first five lines of arr2:\\n\",arr2[:5,:]) "
   ]
  },
  {
   "cell_type": "code",
   "execution_count": 4,
   "id": "391ac379",
   "metadata": {},
   "outputs": [
    {
     "name": "stdout",
     "output_type": "stream",
     "text": [
      "arr2 shape is: (100, 4)\n",
      "The first five lines of arr2:\n",
      " [['-121.434879' '38.631913' 'Wed May 21 00:00:00 EDT 2008' '59222']\n",
      " ['-121.431028' '38.478902' 'Wed May 21 00:00:00 EDT 2008' '68212']\n",
      " ['-121.443839' '38.618305' 'Wed May 21 00:00:00 EDT 2008' '68880']\n",
      " ['-121.439146' '38.616835' 'Wed May 21 00:00:00 EDT 2008' '69307']\n",
      " ['-121.435768' '38.51947' 'Wed May 21 00:00:00 EDT 2008' '81900']]\n"
     ]
    }
   ],
   "source": [
    "# extraction with columns in a different predetermined order\n",
    "columns_wanted = [11, 10, 8, 9]                       # notice columns are listed in different order\n",
    "arr2 = arr[1:101:1,columns_wanted]\n",
    "print(\"arr2 shape is:\",arr2.shape)\n",
    "print(\"The first five lines of arr2:\\n\",arr2[:5,:]) "
   ]
  },
  {
   "cell_type": "code",
   "execution_count": 5,
   "id": "9c0db129",
   "metadata": {},
   "outputs": [
    {
     "name": "stdout",
     "output_type": "stream",
     "text": [
      "arr shape before new dimension is: (986, 12)\n",
      "arr shape after new dimension added is: (1, 986, 12)\n",
      "The first five lines of arr:\n",
      " [[['street' 'city' 'zip' 'state' 'beds' 'baths' 'sq__ft' 'type'\n",
      "   'sale_date' 'price' 'latitude' 'longitude']\n",
      "  ['3526 HIGH ST' 'SACRAMENTO' '95838' 'CA' '2' '1' '836' 'Residential'\n",
      "   'Wed May 21 00:00:00 EDT 2008' '59222' '38.631913' '-121.434879']\n",
      "  ['51 OMAHA CT' 'SACRAMENTO' '95823' 'CA' '3' '1' '1167' 'Residential'\n",
      "   'Wed May 21 00:00:00 EDT 2008' '68212' '38.478902' '-121.431028']\n",
      "  ['2796 BRANCH ST' 'SACRAMENTO' '95815' 'CA' '2' '1' '796'\n",
      "   'Residential' 'Wed May 21 00:00:00 EDT 2008' '68880' '38.618305'\n",
      "   '-121.443839']\n",
      "  ['2805 JANETTE WAY' 'SACRAMENTO' '95815' 'CA' '2' '1' '852'\n",
      "   'Residential' 'Wed May 21 00:00:00 EDT 2008' '69307' '38.616835'\n",
      "   '-121.439146']]]\n",
      "Note array is now 3D - see three brackets - but nothing  has been added to 2nd depth dimension\n"
     ]
    }
   ],
   "source": [
    "#add a new dimension to arr\n",
    "from numpy import newaxis\n",
    "print(\"arr shape before new dimension is:\",arr.shape)\n",
    "arr=arr[newaxis,:,:]                                     #newaxis is added a new first dimension, depth\n",
    "print(\"arr shape after new dimension added is:\",arr.shape)\n",
    "print(\"The first five lines of arr:\\n\",arr[:,:5,:]) \n",
    "print(\"Note array is now 3D - see three brackets - but nothing \",\n",
    "      \"has been added to 2nd depth dimension\")"
   ]
  }
 ],
 "metadata": {
  "kernelspec": {
   "display_name": "Python 3 (ipykernel)",
   "language": "python",
   "name": "python3"
  },
  "language_info": {
   "codemirror_mode": {
    "name": "ipython",
    "version": 3
   },
   "file_extension": ".py",
   "mimetype": "text/x-python",
   "name": "python",
   "nbconvert_exporter": "python",
   "pygments_lexer": "ipython3",
   "version": "3.9.12"
  }
 },
 "nbformat": 4,
 "nbformat_minor": 5
}
